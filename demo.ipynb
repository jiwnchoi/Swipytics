{
 "cells": [
  {
   "cell_type": "code",
   "execution_count": null,
   "metadata": {},
   "outputs": [],
   "source": [
    "from pprint import pprint\n",
    "import draco as drc\n",
    "\n",
    "import altair as alt\n",
    "from draco.renderer import AltairRenderer\n",
    "from vega_datasets import data\n",
    "\n",
    "d = drc.Draco()\n",
    "renderer = AltairRenderer()\n",
    "df = data.cars()\n",
    "\n",
    "\n",
    "def change_column_name(df):\n",
    "  df.columns = df.columns.str.lower()\n",
    "  return df\n",
    "\n",
    "\n",
    "# base_facts = [\n",
    "#   *base_facts,\n",
    "#   \"entity(view,root,v0).\",\n",
    "#   \"entity(mark,v0,m).\",\n",
    "#   \"entity(encoding,m,e0).\",\n",
    "#   \"attribute((encoding,field),e0,year).\",\n",
    "#   \"entity(encoding,m,e1).\",\n",
    "#   \"attribute((encoding,field),e1,horsepower).\",\n",
    "# ]\n",
    "\n",
    "# model = next(draco.complete_spec(base_facts, 10))\n",
    "# spec = answer_set_to_dict(model.answer_set)\n",
    "# pprint(model)\n",
    "# display(renderer.render(spec, df))\n",
    "\n",
    "# @app.get(\"/\")\n",
    "df = change_column_name(df)\n",
    "# make cylinders a nominal\n",
    "df[\"cylinders\"] = df[\"cylinders\"].astype(str)"
   ]
  },
  {
   "cell_type": "code",
   "execution_count": null,
   "metadata": {},
   "outputs": [],
   "source": [
    "df"
   ]
  },
  {
   "cell_type": "code",
   "execution_count": null,
   "metadata": {},
   "outputs": [],
   "source": [
    "base_scheme = drc.schema_from_dataframe(df)\n",
    "base_facts = drc.dict_to_facts(base_scheme)\n",
    "\n",
    "\n",
    "def recommend_charts(\n",
    "  spec: list[str],\n",
    "  draco: drc.Draco,\n",
    "  num: int = 5,\n",
    "  labeler=lambda i: f\"CHART {i+1}\",\n",
    ") -> dict[str, tuple[list[str], dict]]:\n",
    "  # Dictionary to store the generated recommendations, keyed by chart name\n",
    "  chart_specs = {}\n",
    "  for i, model in enumerate(draco.complete_spec(spec, num)):\n",
    "    chart_name = labeler(i)\n",
    "    spec = drc.answer_set_to_dict(model.answer_set)\n",
    "    chart_specs[chart_name] = drc.dict_to_facts(spec), spec\n",
    "\n",
    "    print(chart_name)\n",
    "    print(f\"COST: {model.cost}\")\n",
    "    chart = renderer.render(spec=spec, data=df)\n",
    "    # Adjust column-faceted chart size\n",
    "    if (\n",
    "      isinstance(chart, alt.FacetChart)\n",
    "      and chart.facet.column is not alt.Undefined\n",
    "    ):\n",
    "      chart = chart.configure_view(continuousWidth=130, continuousHeight=130)\n",
    "    display(chart)\n",
    "\n",
    "  return chart_specs\n"
   ]
  },
  {
   "cell_type": "code",
   "execution_count": null,
   "metadata": {},
   "outputs": [],
   "source": [
    "r = recommend_charts(\n",
    "  spec=[\n",
    "    *base_facts,\n",
    "    \"entity(view,root,v0).\",\n",
    "    \"entity(mark,v0,m).\",\n",
    "    # \"attribute((mark,type),m,rect).\",\n",
    "    \"entity(encoding,m,e0).\",\n",
    "    \"attribute((encoding,field),e0,horsepower).\",\n",
    "    # \"attribute((encoding,binning),e0, 10).\",\n",
    "    # \"entity(encoding,m,e1).\",\n",
    "    \"attribute((encoding,field),e1,miles_per_gallon).\",\n",
    "    \"entity(encoding,m,e1).\",\n",
    "    # \"attribute((encoding,field),e2,displacement).\",\n",
    "    # \"entity(encoding,m,e2).\",\n",
    "    # \"attribute((encoding,aggregate),e1,mean).\",\n",
    "    # \"attribute((encoding,field),e1,origin).\",\n",
    "    # \":- {entity(encoding,_,_)} > 3.\",\n",
    "    # \":- {entity(encoding,_,_)} < 3.\",\n",
    "    \":- {entity(mark,_,_)} != 1.\",\n",
    "  ],\n",
    "  draco=d,\n",
    "  num=5,\n",
    ")"
   ]
  },
  {
   "cell_type": "code",
   "execution_count": null,
   "metadata": {},
   "outputs": [],
   "source": []
  }
 ],
 "metadata": {
  "kernelspec": {
   "display_name": ".venv",
   "language": "python",
   "name": "python3"
  },
  "language_info": {
   "codemirror_mode": {
    "name": "ipython",
    "version": 3
   },
   "file_extension": ".py",
   "mimetype": "text/x-python",
   "name": "python",
   "nbconvert_exporter": "python",
   "pygments_lexer": "ipython3",
   "version": "3.11.9"
  }
 },
 "nbformat": 4,
 "nbformat_minor": 2
}
